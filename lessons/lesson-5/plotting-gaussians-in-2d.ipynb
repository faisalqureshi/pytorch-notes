{
 "cells": [
  {
   "cell_type": "markdown",
   "metadata": {},
   "source": [
    "# Plotting Gaussians\n",
    "\n",
    "Faisal Z. Qureshi     \n",
    "http://vclab.science.uoit.ca"
   ]
  },
  {
   "cell_type": "code",
   "execution_count": null,
   "metadata": {},
   "outputs": [],
   "source": [
    "import numpy as np\n",
    "import matplotlib.pyplot as plt\n",
    "from matplotlib import cm\n",
    "get_ipython().run_line_magic('matplotlib', 'inline')"
   ]
  },
  {
   "cell_type": "markdown",
   "metadata": {},
   "source": [
    "**Define a multivariate Gaussian**\n",
    "\n",
    "$$\n",
    "\\mathcal{N}(\\mathbf{x};\\mu,\\Sigma) = \\frac{1}{{(2 \\pi)^\\frac{d}{2}} | \\Sigma |^\\frac{1}{2}} e^{ -\\frac{1}{2} (\\mathbf{x} - \\mu_k)^T \\Sigma_k^{-1} (\\mathbf{x} - \\mu_k) }\n",
    "$$\n",
    "\n",
    "Notice that we use einsum function to compute the argument to the exponent."
   ]
  },
  {
   "cell_type": "code",
   "execution_count": null,
   "metadata": {},
   "outputs": [],
   "source": [
    "def multivariate_gaussian(pos, mu, sig):\n",
    "    d = mu.shape[0]\n",
    "    sig_det = np.linalg.det(sig)\n",
    "    sig_inv = np.linalg.inv(sig)\n",
    "    c = np.sqrt((2*np.pi)**d * sig_det)\n",
    "    fac = np.einsum('...j,jk,...k->...', pos-mu, sig_inv, pos-mu)\n",
    "    return np.exp(-fac/2)/c"
   ]
  },
  {
   "cell_type": "markdown",
   "metadata": {},
   "source": [
    "**Plotting**\n",
    "\n",
    "Plot Gaussians on a square defined by (-10,-10) and (10,10). "
   ]
  },
  {
   "cell_type": "code",
   "execution_count": null,
   "metadata": {},
   "outputs": [],
   "source": [
    "x = np.linspace(-10,10,100)\n",
    "y = np.linspace(-10,10,100)\n",
    "xx, yy = np.meshgrid(x, y)\n",
    "pos = np.empty(xx.shape + (2,))\n",
    "pos[:,:,0] = xx\n",
    "pos[:,:,1] = yy\n",
    "\n",
    "mu = np.array([-5,-2])\n",
    "sig = np.array([[1,0],[0,6]])\n",
    "g = multivariate_gaussian(pos, mu, sig)\n",
    "\n",
    "mu = np.array([5,0])\n",
    "sig = np.array([[2,1],[1,4]])\n",
    "g1 = multivariate_gaussian(pos, mu, sig)\n",
    "\n",
    "plt.figure(figsize=(10,10))\n",
    "plt.grid()\n",
    "plt.contour(pos[:,:,0],pos[:,:,1],g,16,linewidths=np.linspace(0.5,3,16),cmap=cm.hsv)\n",
    "plt.contour(pos[:,:,0],pos[:,:,1],g1,16,linewidths=np.linspace(0.5,3,16), cmap=cm.hsv)"
   ]
  },
  {
   "cell_type": "code",
   "execution_count": null,
   "metadata": {},
   "outputs": [],
   "source": []
  }
 ],
 "metadata": {
  "kernelspec": {
   "display_name": "Python 3",
   "language": "python",
   "name": "python3"
  },
  "language_info": {
   "codemirror_mode": {
    "name": "ipython",
    "version": 3
   },
   "file_extension": ".py",
   "mimetype": "text/x-python",
   "name": "python",
   "nbconvert_exporter": "python",
   "pygments_lexer": "ipython3",
   "version": "3.6.9"
  }
 },
 "nbformat": 4,
 "nbformat_minor": 4
}
