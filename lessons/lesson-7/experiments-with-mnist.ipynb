{
 "cells": [
  {
   "cell_type": "code",
   "execution_count": null,
   "id": "b2306281-d00c-4e96-a15c-03147c7409f3",
   "metadata": {},
   "outputs": [],
   "source": [
    "import torch\n",
    "from torch.utils import tensorboard\n",
    "import numpy as np\n",
    "import matplotlib.pyplot as plt"
   ]
  },
  {
   "cell_type": "code",
   "execution_count": null,
   "id": "4d88f482-fc9d-42a7-8905-4e9b1469f582",
   "metadata": {},
   "outputs": [],
   "source": [
    "torch.cuda.is_available()"
   ]
  },
  {
   "cell_type": "code",
   "execution_count": null,
   "id": "f1bc4800-9c90-43e9-bde6-5f80fbca40b9",
   "metadata": {},
   "outputs": [],
   "source": [
    "import torchvision as tv\n",
    "\n",
    "my_transforms = tv.transforms.Compose([\n",
    "    tv.transforms.ToTensor(),\n",
    "    tv.transforms.ConvertImageDtype(torch.float),\n",
    "    tv.transforms.Normalize((0.5,), (0.5,))\n",
    "])\n",
    "\n",
    "mnist_digits = tv.datasets.MNIST('../../datasets', transform=my_transforms, download=True)"
   ]
  },
  {
   "cell_type": "code",
   "execution_count": null,
   "id": "c471ac53-e4d0-49a5-807c-354bcdfedfb8",
   "metadata": {},
   "outputs": [],
   "source": [
    "plt.imshow(mnist_digits[1000][0].squeeze())"
   ]
  },
  {
   "cell_type": "code",
   "execution_count": null,
   "id": "834d79f5-29f4-4f1c-aa48-a73cfe0da4d2",
   "metadata": {},
   "outputs": [],
   "source": [
    "class Digits(torch.utils.data.Dataset):\n",
    "    def __init__(self, mnist_digits, digits = 'all'):\n",
    "        \"\"\"\n",
    "        A little wrapper around MNIST dataset.\n",
    "        \n",
    "        mnist_digits: object returned from torchvision.datasets.MNIST\n",
    "        digits: 'all' or a list of digits [1, 2, 3, ...] when interested in a subset of MNIST data\n",
    "        returns:\n",
    "            when used with dataloaders, returns items of the form {'sample': 1x28x28, 'label': digit}\n",
    "        \"\"\"\n",
    "        \n",
    "        \n",
    "        try:\n",
    "            self.samples = torch.load('mnist_samples.pt')\n",
    "            self.labels = torch.load('mnist_labels.pt')\n",
    "        \n",
    "            if not self.samples.shape == (60000, 1, 28, 28) or not self.labels.shape == (60000, 1):\n",
    "                raise\n",
    "        except:\n",
    "            mnist_digits = mnist_digits\n",
    "            n = len(mnist_digits)\n",
    "            assert(n == 60000)\n",
    "            \n",
    "            self.samples = torch.empty(n, 1, 28, 28)\n",
    "            self.labels = torch.empty(n, 1)\n",
    "        \n",
    "            for i in range(n):\n",
    "                self.samples[i,...] = mnist_digits[i][0]\n",
    "                self.labels[i,] = mnist_digits[i][1]\n",
    "            \n",
    "            torch.save(self.samples, 'mnist_samples.pt')\n",
    "            torch.save(self.labels, 'mnist_labels.pt')\n",
    "        \n",
    "        if digits == 'all':\n",
    "            self.n = self.samples.shape[0]\n",
    "        else:\n",
    "            idxs = torch.full([self.samples.shape[0]], False)\n",
    "            for i in digits:\n",
    "                idxs = torch.logical_or(idxs, self.labels[:,0] == i)\n",
    "            self.labels = self.labels[idxs]\n",
    "            self.samples = self.samples[idxs]\n",
    "        \n",
    "    def __len__(self):\n",
    "        return self.samples.shape[0]\n",
    "    \n",
    "    def __getitem__(self, idx):\n",
    "        return {'sample': self.samples[idx], 'label': self.labels[idx]}"
   ]
  },
  {
   "cell_type": "code",
   "execution_count": null,
   "id": "d252b2bc-95c3-4c38-95bd-bb9bda82a8ca",
   "metadata": {},
   "outputs": [],
   "source": [
    "dataset = Digits(mnist_digits, digits=[5])\n",
    "len(dataset)"
   ]
  },
  {
   "cell_type": "code",
   "execution_count": null,
   "id": "eedb73e4-bd76-4429-9e71-a1d57582c92e",
   "metadata": {},
   "outputs": [],
   "source": [
    "i = np.random.choice(len(dataset))\n",
    "plt.imshow(dataset[i]['sample'].squeeze())\n",
    "plt.title(dataset[i]['label'].squeeze().numpy().astype(np.int32));"
   ]
  },
  {
   "cell_type": "code",
   "execution_count": null,
   "id": "31573e91-3a2f-4dee-b565-9823b55bd1fb",
   "metadata": {},
   "outputs": [],
   "source": [
    "batch_size = 8\n",
    "dataloader = torch.utils.data.DataLoader(dataset, batch_size=batch_size, shuffle=True)"
   ]
  },
  {
   "cell_type": "code",
   "execution_count": null,
   "id": "81dfe9f5-8a1b-4a30-8b73-f25984e71640",
   "metadata": {},
   "outputs": [],
   "source": [
    "for a_batch_of_data in dataloader:\n",
    "    print(len(a_batch_of_data['sample']))\n",
    "    print(len(a_batch_of_data['label']))\n",
    "    break"
   ]
  },
  {
   "cell_type": "code",
   "execution_count": null,
   "id": "2fef8ff0-6f6e-4dd9-abd9-fed7b1a70228",
   "metadata": {},
   "outputs": [],
   "source": [
    "class AutoEncoder(torch.nn.Module):\n",
    "    \n",
    "    def __init__(self):\n",
    "        super(AutoEncoder, self).__init__()\n",
    "        \n",
    "        self.encoder = torch.nn.Sequential(\n",
    "            torch.nn.Conv2d(1, 16, 3, stride=3, padding=1),\n",
    "            torch.nn.ReLU(True),\n",
    "            torch.nn.MaxPool2d(2, stride=2),\n",
    "            torch.nn.Conv2d(16, 8, 3, stride=2, padding=1),\n",
    "            torch.nn.ReLU(True),\n",
    "            torch.nn.MaxPool2d(2, stride=1)\n",
    "        )\n",
    "        \n",
    "        self.decoder = torch.nn.Sequential(\n",
    "            torch.nn.ConvTranspose2d(8, 16, 3, stride=2),\n",
    "            torch.nn.ReLU(True),\n",
    "            torch.nn.ConvTranspose2d(16, 8, 5, stride=3, padding=1),\n",
    "            torch.nn.ReLU(True),\n",
    "            torch.nn.ConvTranspose2d(8, 1, 2, stride=2, padding=1),\n",
    "            torch.nn.Tanh()\n",
    "        )\n",
    "        \n",
    "    def forward(self, x):\n",
    "        x = self.encoder(x)\n",
    "        #print(x.shape)\n",
    "        \n",
    "        x = self.decoder(x)\n",
    "        return x"
   ]
  },
  {
   "cell_type": "code",
   "execution_count": null,
   "id": "edfaa6e1-223a-4df6-aa50-992809be889e",
   "metadata": {},
   "outputs": [],
   "source": [
    "ae = AutoEncoder()"
   ]
  },
  {
   "cell_type": "code",
   "execution_count": null,
   "id": "da286686-6779-400a-9988-ab834e68bbc0",
   "metadata": {},
   "outputs": [],
   "source": [
    "for data in dataloader:\n",
    "    ae(data['sample'])\n",
    "    break"
   ]
  },
  {
   "cell_type": "code",
   "execution_count": null,
   "id": "ff680f4f-0e1c-475c-a8b7-c316487ed560",
   "metadata": {},
   "outputs": [],
   "source": [
    "class cudafy:\n",
    "    \n",
    "    def __init__(self, device=None):\n",
    "        if torch.cuda.is_available() and device:\n",
    "            self.device = device\n",
    "        else:\n",
    "            self.device = 0\n",
    "    \n",
    "    def name(self):\n",
    "        if torch.cuda.is_available():\n",
    "            return torch.cuda.get_device_name(self.device)\n",
    "        return 'Cuda is not available.'\n",
    "    \n",
    "    def put(self, x):\n",
    "        \"\"\"Put x on the default cuda device.\"\"\"\n",
    "        if torch.cuda.is_available() and not x.is_cuda:\n",
    "            return x.to(device=self.device)\n",
    "        return x\n",
    "    \n",
    "    def __call__(self, x):\n",
    "        return self.put(x)\n",
    "    \n",
    "    def get(self,x):\n",
    "        \"\"\"Get from cpu.\"\"\"\n",
    "        if x.is_cuda:\n",
    "            return x.to(device='cpu')\n",
    "        return x\n",
    "    \n",
    "def cpu(x):\n",
    "    if x.is_cuda:\n",
    "        return x.to(device='cpu')\n",
    "    return x"
   ]
  },
  {
   "cell_type": "code",
   "execution_count": null,
   "id": "91240d8c-c15e-4d53-b0c0-c6b0bfe0ac13",
   "metadata": {},
   "outputs": [],
   "source": [
    "print(torch.cuda.is_available())\n"
   ]
  },
  {
   "cell_type": "code",
   "execution_count": null,
   "id": "cd538f81-7a3f-4773-bdcc-297b9355b742",
   "metadata": {},
   "outputs": [],
   "source": [
    "gpu = cudafy()\n",
    "model = gpu(AutoEncoder())"
   ]
  },
  {
   "cell_type": "code",
   "execution_count": null,
   "id": "22d5240e-7b7c-48be-a90c-39c232185a9c",
   "metadata": {},
   "outputs": [],
   "source": [
    "for data in dataloader:\n",
    "    model(gpu(data['sample']))\n",
    "    break"
   ]
  },
  {
   "cell_type": "code",
   "execution_count": null,
   "id": "91b927fd-ea5d-4940-a7ab-a715377e8a4a",
   "metadata": {},
   "outputs": [],
   "source": [
    "# for i in model.parameters():\n",
    "#     print(i)"
   ]
  },
  {
   "cell_type": "code",
   "execution_count": null,
   "id": "bc3f6026-6801-43a2-ac52-7443ccfb3f9b",
   "metadata": {},
   "outputs": [],
   "source": [
    "learning_rate = 1e-2\n",
    "weight_decay = 1e-5\n",
    "criterion = torch.nn.MSELoss()\n",
    "optimizer = torch.optim.Adam(model.parameters(), \n",
    "                             lr=learning_rate, \n",
    "                             weight_decay=weight_decay)"
   ]
  },
  {
   "cell_type": "code",
   "execution_count": null,
   "id": "a6ff1390-c4ab-4c69-8ede-fe48b9ae0634",
   "metadata": {},
   "outputs": [],
   "source": [
    "losses = []\n",
    "\n",
    "for epoch in range(10):\n",
    "    print(f'Epoch = {epoch}')\n",
    "    for data in dataloader:\n",
    "        imgs = gpu(data['sample'])\n",
    "        \n",
    "        output = model(imgs) \n",
    "        loss = criterion(output, imgs)\n",
    "        print(loss)\n",
    "        \n",
    "        losses.append(loss)\n",
    "        \n",
    "        print(loss)\n",
    "        # #writer.add_scalar(\"Loss/train\", loss, epoch)\n",
    "        optimizer.zero_grad()\n",
    "        loss.backward()\n",
    "        optimizer.step()\n",
    "        break"
   ]
  },
  {
   "cell_type": "code",
   "execution_count": null,
   "id": "a963c164-b340-4235-8f59-ffdf47d729fe",
   "metadata": {},
   "outputs": [],
   "source": [
    "writer = tensorboard.SummaryWriter()"
   ]
  },
  {
   "cell_type": "code",
   "execution_count": null,
   "id": "02753f43-62c0-4a1b-9a2d-7aef74fe65e7",
   "metadata": {},
   "outputs": [],
   "source": [
    "def train_model(iter):\n",
    "    for epoch in range(iter):\n",
    "        for data in dataloader:\n",
    "            imgs = gpu(data['sample'])\n",
    "            output = model(imgs) \n",
    "            loss = criterion(output, imgs)\n",
    "            writer.add_scalar(\"Loss/train\", loss.item(), epoch)\n",
    "            img_grid = tv.utils.make_grid(imgs)\n",
    "            writer.add_image(\"mnist\", img_grid, epoch)\n",
    "            optimizer.zero_grad()\n",
    "            loss.backward()\n",
    "            optimizer.step()"
   ]
  },
  {
   "cell_type": "code",
   "execution_count": null,
   "id": "c1b8a06c-84c6-4b74-96d4-a85dd7605bf5",
   "metadata": {},
   "outputs": [],
   "source": [
    "train_model(10)"
   ]
  },
  {
   "cell_type": "code",
   "execution_count": null,
   "id": "1b307371-c0e2-439f-b8f9-300a23258dbf",
   "metadata": {},
   "outputs": [],
   "source": [
    "import torch\n",
    "from torch.utils import tensorboard\n",
    "\n",
    "writer = tensorboard.SummaryWriter()"
   ]
  },
  {
   "cell_type": "code",
   "execution_count": null,
   "id": "488b3672-4698-44cb-8ac3-198cf34c657b",
   "metadata": {},
   "outputs": [],
   "source": [
    "0,1,2,3,4,5,6,7,8,9,8,7,6,5,4,3,2,1,0,1,2,3,4,5,6,7"
   ]
  },
  {
   "cell_type": "code",
   "execution_count": null,
   "id": "a51a17bf-e450-470e-a4af-321736889a3e",
   "metadata": {},
   "outputs": [],
   "source": [
    "torch.cuda.is_available()"
   ]
  },
  {
   "cell_type": "code",
   "execution_count": null,
   "id": "cf175abb-29b8-47d4-99a4-daab17fab623",
   "metadata": {},
   "outputs": [],
   "source": []
  }
 ],
 "metadata": {
  "kernelspec": {
   "display_name": "Python 3",
   "language": "python",
   "name": "python3"
  },
  "language_info": {
   "codemirror_mode": {
    "name": "ipython",
    "version": 3
   },
   "file_extension": ".py",
   "mimetype": "text/x-python",
   "name": "python",
   "nbconvert_exporter": "python",
   "pygments_lexer": "ipython3",
   "version": "3.6.9"
  }
 },
 "nbformat": 4,
 "nbformat_minor": 5
}
