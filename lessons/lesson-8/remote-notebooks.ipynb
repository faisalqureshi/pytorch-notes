{
 "cells": [
  {
   "cell_type": "code",
   "execution_count": null,
   "metadata": {},
   "outputs": [],
   "source": [
    "#!/usr/bin/env python\n",
    "# coding: utf-8"
   ]
  },
  {
   "cell_type": "markdown",
   "metadata": {},
   "source": [
    "# Remote Jupyter Notebooks<br>\n",
    "<br>\n",
    "Please see [https://coderwall.com/p/ohk6cg/remote-access-to-ipython-notebooks-via-ssh](https://coderwall.com/p/ohk6cg/remote-access-to-ipython-notebooks-via-ssh)"
   ]
  },
  {
   "cell_type": "markdown",
   "metadata": {},
   "source": [
    "On the remote machine, start the IPython notebooks server:<br>\n",
    "<br>\n",
    "~~~bash<br>\n",
    "remote_user@remote_host$ ipython notebook --no-browser --port=8889<br>\n",
    "~~~<br>\n",
    "<br>\n",
    "Usually IPython opens a browser to display the available notebooks, but we do not need that so we use the option --no-browser. We also change the port to 8889, for no other reason than to show how this is done.<br>\n",
    "<br>\n",
    "On the local machine, start an SSH tunnel:<br>\n",
    "<br>\n",
    "~~~bash<br>\n",
    "local_user@local_host$ ssh -N -f -L localhost:8888:localhost:8889 remote_user@remote_host<br>\n",
    "~~~<br>\n",
    "<br>\n",
    "The first option -N tells SSH that no remote commands will be executed, and is useful for port forwarding. The second option -f has the effect that SSH will go to background, so the local tunnel-enabling terminal remains usable. The last option -L lists the port forwarding configuration (remote port 8889 to local port 8888).<br>\n",
    "<br>\n",
    "Now open your browser on the local machine and type in the address bar<br>\n",
    "<br>\n",
    "~~~<br>\n",
    "localhost:8888<br>\n",
    "~~~<br>\n",
    "<br>\n",
    "which displays your remotely running IPython notebook server.<br>\n",
    "<br>\n",
    "To close the SSH tunnel on the local machine, look for the process and kill it manually:<br>\n",
    "<br>\n",
    "~~~bash<br>\n",
    "local_user@local_host$ ps aux | grep localhost:8889<br>\n",
    "local_user 18418  0.0  0.0  41488   684 ?        Ss   17:27   0:00 ssh -N -f -L localhost:8888:localhost:8889 remote_user@remote_host<br>\n",
    "local_user 18424  0.0  0.0  11572   932 pts/6    S+   17:27   0:00 grep localhost:8889<br>\n",
    "<br>\n",
    "local_user@local_host$ kill -15 18418<br>\n",
    "~~~"
   ]
  }
 ],
 "metadata": {
  "kernelspec": {
   "display_name": "Python 3",
   "language": "python",
   "name": "python3"
  },
  "language_info": {
   "codemirror_mode": {
    "name": "ipython",
    "version": 3
   },
   "file_extension": ".py",
   "mimetype": "text/x-python",
   "name": "python",
   "nbconvert_exporter": "python",
   "pygments_lexer": "ipython3",
   "version": "3.6.9"
  }
 },
 "nbformat": 4,
 "nbformat_minor": 4
}
