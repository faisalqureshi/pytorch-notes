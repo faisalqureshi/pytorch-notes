{
 "cells": [
  {
   "cell_type": "markdown",
   "metadata": {},
   "source": [
    "<br>\n",
    "The goal is to compute per channel mean and variances for images present in a folder"
   ]
  },
  {
   "cell_type": "code",
   "execution_count": null,
   "metadata": {},
   "outputs": [],
   "source": [
    "import os\n",
    "import torch\n",
    "import torchvision.transforms as transforms\n",
    "from PIL import Image\n",
    "import argparse"
   ]
  },
  {
   "cell_type": "code",
   "execution_count": null,
   "metadata": {},
   "outputs": [],
   "source": [
    "def mk_filelist(folder, extension):\n",
    "    files = []\n",
    "    filelist = os.listdir(folder)\n",
    "    for file in filelist[:]:\n",
    "        if file.endswith(extension):\n",
    "            files.append(file)\n",
    "    return sorted(files), folder"
   ]
  },
  {
   "cell_type": "code",
   "execution_count": null,
   "metadata": {},
   "outputs": [],
   "source": [
    "class Accum:\n",
    "    \"\"\"Use this class to compute per channel mean and variance for torch tensors of the form (nchannels x height x rows).\"\"\"\n",
    "    def __init__(self):\n",
    "        self.first = True\n",
    "    def add(self, im):\n",
    "        dim = im.shape\n",
    "        im = im.view(im.shape[0],-1)\n",
    "        self.npixels = im.shape[1]\n",
    "        x = torch.sum(im, 1, True)\n",
    "        x2 = torch.sum(torch.pow(im, 2), 1, True)\n",
    "        if self.first:\n",
    "            print('Image dimensions:\\n\\t', dim)\n",
    "            self.first = False\n",
    "            self.s = x\n",
    "            self.s2 = x2\n",
    "            self.n = 1\n",
    "        else:\n",
    "            self.s = torch.add(self.s, x)\n",
    "            self.s2 = torch.add(self.s2, x2)\n",
    "            self.n += 1\n",
    "        \n",
    "    def mean(self):\n",
    "        return self.s / (self.npixels * self.n)\n",
    "    def var(self):\n",
    "        t = self.n * self.npixels\n",
    "        return (self.s2 - torch.pow(self.s, 2) / t) / t \n",
    "    def stdev(self):\n",
    "        return torch.sqrt(self.var())"
   ]
  },
  {
   "cell_type": "code",
   "execution_count": null,
   "metadata": {},
   "outputs": [],
   "source": [
    "def compute_stats(folder, files, transform=None):\n",
    "    if not transform:\n",
    "        transform = transforms.ToTensor() \n",
    "    acc = Accum()\n",
    "    for filename in files:\n",
    "        filepath = os.path.join(folder, filename)\n",
    "        image = Image.open(filepath)\n",
    "        im = transform(image)\n",
    "        acc.add(im)\n",
    "    \n",
    "    return acc"
   ]
  },
  {
   "cell_type": "code",
   "execution_count": null,
   "metadata": {},
   "outputs": [],
   "source": [
    "if __name__ == '__main__':\n",
    "    parser = argparse.ArgumentParser(description='Compute per channel mean and standard deviation for images present in a folder.')\n",
    "    parser.add_argument('folder', action='store', default='.', help='Folder containing image files')\n",
    "    parser.add_argument('ext', action='store', default='.', help='Image files extension')\n",
    "    args = parser.parse_args()\n",
    "    files = mk_filelist(args.folder, args.ext)\n",
    "    nfiles = len(files[0])\n",
    "    print('Found {} images\\n'.format(nfiles))\n",
    "    acc = compute_stats(args.folder, files[0])\n",
    "    print('Mean:\\n\\t', acc.mean().squeeze())\n",
    "    print('Standard deviation:\\n\\t', acc.stdev().squeeze())\n",
    "    print('\\nComputing mean and standard deviation of whitened data.')\n",
    "    t = transforms.Compose([transforms.ToTensor(), transforms.Normalize(acc.mean(), acc.stdev())])\n",
    "    acc2 = compute_stats(args.folder, files[0], t)\n",
    "    print('Mean (0):\\n\\t', acc2.mean().squeeze())\n",
    "    print('Standard deviation (1):\\n\\t', acc2.stdev().squeeze())\n",
    "    image_stats = { 'folder': args.folder, 'extension': args.ext, 'mean': acc.mean(), 'var': acc.var(), 'stdev': acc.stdev() }\n",
    "    print('Saving in {}'.format('image_stats.pt'))\n",
    "    torch.save(image_stats, 'image_stats.pt')"
   ]
  }
 ],
 "metadata": {
  "kernelspec": {
   "display_name": "Python 3",
   "language": "python",
   "name": "python3"
  },
  "language_info": {
   "codemirror_mode": {
    "name": "ipython",
    "version": 3
   },
   "file_extension": ".py",
   "mimetype": "text/x-python",
   "name": "python",
   "nbconvert_exporter": "python",
   "pygments_lexer": "ipython3",
   "version": "3.6.4"
  }
 },
 "nbformat": 4,
 "nbformat_minor": 2
}
