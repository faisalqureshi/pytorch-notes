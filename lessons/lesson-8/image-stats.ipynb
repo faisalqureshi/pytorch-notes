{
 "cells": [
  {
   "cell_type": "code",
   "execution_count": null,
   "metadata": {},
   "outputs": [],
   "source": [
    "#!/usr/bin/env python\n",
    "# coding: utf-8"
   ]
  },
  {
   "cell_type": "markdown",
   "metadata": {},
   "source": [
    "# Computing per channel mean and standard deviation of a collection of RGB images<br>\n",
    "<br>\n",
    "Faisal Qureshi<br>\n",
    "http://www.vclab.ca    <br>\n",
    "faisal.qureshi@uoit.ca<br>\n",
    "<br>\n",
    "See also `normalize.py`"
   ]
  },
  {
   "cell_type": "code",
   "execution_count": null,
   "metadata": {},
   "outputs": [],
   "source": [
    "import os\n",
    "import torch\n",
    "import torchvision.transforms as transforms\n",
    "from PIL import Image\n",
    "import argparse"
   ]
  },
  {
   "cell_type": "code",
   "execution_count": null,
   "metadata": {},
   "outputs": [],
   "source": [
    "from compute_image_stats import Accum, mk_filelist, compute_stats"
   ]
  },
  {
   "cell_type": "markdown",
   "metadata": {},
   "source": [
    "Specify the folder containing the RGB images.  We assume that we are interested in jpg files."
   ]
  },
  {
   "cell_type": "code",
   "execution_count": null,
   "metadata": {},
   "outputs": [],
   "source": [
    "folder = '../../../Datasets/a-benchmark-for-semantic-image-segmentation/Semantic dataset100/image'\n",
    "ext = 'jpg'"
   ]
  },
  {
   "cell_type": "markdown",
   "metadata": {},
   "source": [
    "older = '../../../Datasets/a-benchmark-for-semantic-image-segmentation/Semantic dataset100/ground-truth'<br>\n",
    "xt = 'png'"
   ]
  },
  {
   "cell_type": "code",
   "execution_count": null,
   "metadata": {},
   "outputs": [],
   "source": [
    "files = mk_filelist(folder, ext)\n",
    "nfiles = len(files[0])\n",
    "print('Found {} images'.format(nfiles))"
   ]
  },
  {
   "cell_type": "markdown",
   "metadata": {},
   "source": [
    "Compute per-channel mean and standard deviation"
   ]
  },
  {
   "cell_type": "code",
   "execution_count": null,
   "metadata": {},
   "outputs": [],
   "source": [
    "acc = compute_stats(folder, files[0])\n",
    "print('Mean:\\n\\t', acc.mean().squeeze())\n",
    "print('Standard deviation:\\n\\t', acc.stdev().squeeze())"
   ]
  },
  {
   "cell_type": "markdown",
   "metadata": {},
   "source": [
    "No lets *whiten* the data using `torchvision.transforms.Normalize()`.  Whitened data has 0 mean and unit standard deviation.  We will whiten the data whenever we plan one training a network from scratch or fine-tuning a network."
   ]
  },
  {
   "cell_type": "code",
   "execution_count": null,
   "metadata": {},
   "outputs": [],
   "source": [
    "print('Computing mean and standard deviation of whitened data.')\n",
    "t = transforms.Compose([transforms.ToTensor(), transforms.Normalize(acc.mean(), acc.stdev())])\n",
    "acc2 = compute_stats(folder, files[0], t)\n",
    "print('Mean (0):\\n\\t', acc2.mean().squeeze())\n",
    "print('Standard deviation (1):\\n\\t', acc2.stdev().squeeze())"
   ]
  },
  {
   "cell_type": "markdown",
   "metadata": {},
   "source": [
    "Saving mean, variance and standard deviation to a file"
   ]
  },
  {
   "cell_type": "code",
   "execution_count": null,
   "metadata": {},
   "outputs": [],
   "source": [
    "image_stats = { 'folder': folder, 'extension': 'jpg', 'mean': acc.mean(), 'var': acc.var(), 'stdev': acc.stdev() }\n",
    "print(image_stats)\n",
    "torch.save(image_stats, 'image_stats.pt')"
   ]
  },
  {
   "cell_type": "markdown",
   "metadata": {},
   "source": [
    "Lets try loading them back to see if saving worked"
   ]
  },
  {
   "cell_type": "code",
   "execution_count": null,
   "metadata": {},
   "outputs": [],
   "source": [
    "image_stats_loaded = torch.load('image_stats.pt')\n",
    "print(image_stats_loaded)"
   ]
  }
 ],
 "metadata": {
  "kernelspec": {
   "display_name": "Python 3",
   "language": "python",
   "name": "python3"
  },
  "language_info": {
   "codemirror_mode": {
    "name": "ipython",
    "version": 3
   },
   "file_extension": ".py",
   "mimetype": "text/x-python",
   "name": "python",
   "nbconvert_exporter": "python",
   "pygments_lexer": "ipython3",
   "version": "3.6.4"
  }
 },
 "nbformat": 4,
 "nbformat_minor": 2
}
