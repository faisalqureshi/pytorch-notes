{
 "cells": [
  {
   "cell_type": "code",
   "execution_count": null,
   "metadata": {},
   "outputs": [],
   "source": [
    "import os\n",
    "import numpy as np\n",
    "import torch\n",
    "import matplotlib.pyplot as plt\n",
    "import sseg_dataset100 as dataset\n",
    "from torchvision import transforms\n",
    "from utils import split_train_and_validation\n",
    "from torch.utils.data import DataLoader, SubsetRandomSampler"
   ]
  },
  {
   "cell_type": "code",
   "execution_count": null,
   "metadata": {},
   "outputs": [],
   "source": [
    "def inspect_dataset(dataset):\n",
    "    for i in range(len(dataset)):\n",
    "        print(i)\n",
    "        image = dataset[i]['img_data']\n",
    "        mask_raw = dataset[i]['mask_raw']\n",
    "        mask = dataset[i]['mask']\n",
    "        print('\\timage', dataset[i]['img_data'].shape)\n",
    "        print('\\tmask_raw', dataset[i]['mask_raw'].shape)    \n",
    "        print('\\tmask', dataset[i]['mask'].shape)\n",
    "        print('\\tpixels', set(list(mask_raw.numpy().flatten())))\n",
    "        print('\\tclasses', set(list(mask.numpy().flatten())))"
   ]
  },
  {
   "cell_type": "code",
   "execution_count": null,
   "metadata": {},
   "outputs": [],
   "source": [
    "def inspect_dataloader(dataloader):\n",
    "    for batch, sample in enumerate(dataloader):\n",
    "        print('Batch {}'.format(batch))\n",
    "        print('\\timage', sample['img_data'].shape)\n",
    "        print('\\tmask_raw', sample['mask_raw'].shape)\n",
    "        print('\\tmask', sample['mask'].shape)"
   ]
  }
 ],
 "metadata": {
  "kernelspec": {
   "display_name": "Python 3",
   "language": "python",
   "name": "python3"
  },
  "language_info": {
   "codemirror_mode": {
    "name": "ipython",
    "version": 3
   },
   "file_extension": ".py",
   "mimetype": "text/x-python",
   "name": "python",
   "nbconvert_exporter": "python",
   "pygments_lexer": "ipython3",
   "version": "3.6.4"
  }
 },
 "nbformat": 4,
 "nbformat_minor": 2
}
