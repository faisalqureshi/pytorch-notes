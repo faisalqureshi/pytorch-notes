{
 "cells": [
  {
   "cell_type": "markdown",
   "metadata": {},
   "source": [
    "# Logistic regression\n",
    "\n",
    "Faisal Z. Qureshi     \n",
    "http://vclab.science.uoit.ca\n",
    "\n",
    "You can find excellent documentation for Pytorch at [https://pytorch.org/docs/stable/index.html](https://pytorch.org/docs/stable/index.html)\n",
    "\n",
    "- Dataset\n",
    "- Uses torch Linear and Sigmoid\n",
    "- Our own cost function"
   ]
  },
  {
   "cell_type": "code",
   "execution_count": null,
   "metadata": {},
   "outputs": [],
   "source": [
    "import numpy as np\n",
    "import matplotlib.pyplot as plt\n",
    "import matplotlib.cm as cm\n",
    "get_ipython().run_line_magic('matplotlib', 'inline')"
   ]
  },
  {
   "cell_type": "code",
   "execution_count": null,
   "metadata": {},
   "outputs": [],
   "source": [
    "import pprint as pp"
   ]
  },
  {
   "cell_type": "code",
   "execution_count": null,
   "metadata": {},
   "outputs": [],
   "source": [
    "import torch\n",
    "from torch.utils.data import DataLoader\n",
    "import torch.nn as nn\n",
    "from torch.nn.parameter import Parameter"
   ]
  },
  {
   "cell_type": "markdown",
   "metadata": {},
   "source": [
    "## Test data"
   ]
  },
  {
   "cell_type": "code",
   "execution_count": null,
   "metadata": {},
   "outputs": [],
   "source": [
    "np.random.seed(0)"
   ]
  },
  {
   "cell_type": "code",
   "execution_count": null,
   "metadata": {},
   "outputs": [],
   "source": [
    "from sklearn import datasets\n",
    "n_samples = 120\n",
    "x, y = datasets.make_blobs(n_samples=n_samples, n_features=2, centers=[(0,5),(4,0)], random_state=0)"
   ]
  },
  {
   "cell_type": "code",
   "execution_count": null,
   "metadata": {},
   "outputs": [],
   "source": [
    "plt.figure(figsize=(7,7))\n",
    "plt.scatter(x[:,0], x[:,1], c=y, cmap=cm.bwr)\n",
    "plt.xlabel('$x_1$')\n",
    "plt.ylabel('$x_2$')\n",
    "plt.xlim(-3,10)\n",
    "plt.ylim(-3,10)"
   ]
  },
  {
   "cell_type": "markdown",
   "metadata": {},
   "source": [
    "## Torch dataset\n",
    "\n",
    "We will create a dataset class that will be used by dataloader to present batches during training."
   ]
  },
  {
   "cell_type": "code",
   "execution_count": null,
   "metadata": {},
   "outputs": [],
   "source": [
    "from torch.utils.data import Dataset\n",
    "class MyDataset(Dataset):\n",
    "    def __init__(self, x, y):\n",
    "        self.x = x\n",
    "        self.y = y\n",
    "        \n",
    "    def __len__(self):\n",
    "        return len(self.x)\n",
    "    \n",
    "    def __getitem__(self, idx):\n",
    "        sample = {\n",
    "            'feature': torch.tensor(self.x[idx], dtype=torch.float32), \n",
    "            'label': torch.tensor(np.array([self.y[idx]]), dtype=torch.float32)}\n",
    "        return sample"
   ]
  },
  {
   "cell_type": "markdown",
   "metadata": {},
   "source": [
    "Testing our dataset.  "
   ]
  },
  {
   "cell_type": "code",
   "execution_count": null,
   "metadata": {},
   "outputs": [],
   "source": [
    "import pprint as pp"
   ]
  },
  {
   "cell_type": "code",
   "execution_count": null,
   "metadata": {},
   "outputs": [],
   "source": [
    "dataset = MyDataset(x, y)\n",
    "print('length: ', len(dataset))\n",
    "for i in range(5):\n",
    "    pp.pprint(dataset[i])"
   ]
  },
  {
   "cell_type": "markdown",
   "metadata": {},
   "source": [
    "Using dataloader to construct batches for training purposes"
   ]
  },
  {
   "cell_type": "code",
   "execution_count": null,
   "metadata": {},
   "outputs": [],
   "source": [
    "dataset = MyDataset(x, y)\n",
    "batch_size = 4\n",
    "shuffle = True\n",
    "num_workers = 4\n",
    "dataloader = DataLoader(dataset, batch_size=batch_size, shuffle=shuffle, num_workers=num_workers)\n",
    "for i_batch, samples in enumerate(dataloader):\n",
    "    print('\\nbatch# = %s' % i_batch)\n",
    "    print('samples: ')\n",
    "    pp.pprint(samples)\n",
    "    break # Otherwise it prints too much stuff"
   ]
  },
  {
   "cell_type": "markdown",
   "metadata": {},
   "source": [
    "## Logistic regression model"
   ]
  },
  {
   "cell_type": "code",
   "execution_count": null,
   "metadata": {},
   "outputs": [],
   "source": [
    "class LogisticRegression(nn.Module):\n",
    "    def __init__(self, input_dim):\n",
    "        super(LogisticRegression, self).__init__()\n",
    "        \n",
    "        output_dim = 1\n",
    "        self.weight = Parameter(torch.Tensor(input_dim, 1))\n",
    "        self.bias = Parameter(torch.Tensor(1, 1))\n",
    "        \n",
    "        stdv = 1.\n",
    "        self.weight.data.uniform_(-stdv, stdv)\n",
    "        self.bias.data.uniform_(-stdv, stdv)\n",
    "        \n",
    "    def forward(self, x):\n",
    "        a = torch.mm(x, self.weight)\n",
    "        b = torch.mul(torch.ones(x.size(0),1), self.bias)\n",
    "        c = torch.add(a, b)\n",
    "        d = torch.exp(-c)\n",
    "        return 1./(1. + d)                "
   ]
  },
  {
   "cell_type": "markdown",
   "metadata": {},
   "source": [
    "## Loss"
   ]
  },
  {
   "cell_type": "code",
   "execution_count": null,
   "metadata": {},
   "outputs": [],
   "source": [
    "class MyLoss(nn.Module):\n",
    "    def __init__(self):\n",
    "        super(MyLoss, self).__init__()\n",
    "        \n",
    "    def forward(self, predictions, targets):\n",
    "        n = len(predictions)\n",
    "        return torch.sum((torch.abs(torch.sub(targets,predictions))))"
   ]
  },
  {
   "cell_type": "markdown",
   "metadata": {},
   "source": [
    "## Accuracy\n",
    "\n",
    "Counting how many predictions were correct."
   ]
  },
  {
   "cell_type": "code",
   "execution_count": null,
   "metadata": {},
   "outputs": [],
   "source": [
    "def accuracy(predictions, labels):\n",
    "    l = labels.type(torch.ByteTensor)\n",
    "    p = (predictions > 0.5)\n",
    "    s = torch.sum(p.eq(l))\n",
    "    return s.item()"
   ]
  },
  {
   "cell_type": "markdown",
   "metadata": {},
   "source": [
    "## Training"
   ]
  },
  {
   "cell_type": "code",
   "execution_count": null,
   "metadata": {},
   "outputs": [],
   "source": [
    "import torch.nn.functional as F"
   ]
  },
  {
   "cell_type": "code",
   "execution_count": null,
   "metadata": {},
   "outputs": [],
   "source": [
    "model = LogisticRegression(2)\n",
    "criterion = MyLoss()\n",
    "optimizer = torch.optim.SGD(model.parameters(), lr=0.01)  "
   ]
  },
  {
   "cell_type": "code",
   "execution_count": null,
   "metadata": {},
   "outputs": [],
   "source": [
    "dataset = MyDataset(x, y)\n",
    "batch_size = 16\n",
    "shuffle = True\n",
    "num_workers = 4\n",
    "training_sample_generator = DataLoader(dataset, batch_size=batch_size, shuffle=shuffle, num_workers=num_workers)"
   ]
  },
  {
   "cell_type": "code",
   "execution_count": null,
   "metadata": {},
   "outputs": [],
   "source": [
    "num_epochs = 50\n",
    "for epoch in range(num_epochs):\n",
    "    n = 0\n",
    "    for batch_i, samples in enumerate(training_sample_generator):\n",
    "        predictions = model(samples['feature'])\n",
    "        error = criterion(predictions, samples['label'])\n",
    "        n += accuracy(predictions, samples['label'])\n",
    "        optimizer.zero_grad()\n",
    "        error.backward()        \n",
    "        optimizer.step()\n",
    "    if epoch % 20 == 0:\n",
    "        print('epoch %d:' % epoch, error.item())\n",
    "    print('accuracy', n)\n",
    "    if n > .99 * 120:\n",
    "        break"
   ]
  },
  {
   "cell_type": "markdown",
   "metadata": {},
   "source": [
    "## Visualizing results"
   ]
  },
  {
   "cell_type": "code",
   "execution_count": null,
   "metadata": {},
   "outputs": [],
   "source": [
    "xcoord = np.linspace(-3, 10)\n",
    "ycoord = np.linspace(-3, 10)\n",
    "xx, yy = np.meshgrid(xcoord, ycoord)\n",
    "xxt = torch.tensor(xx, dtype=torch.float32).view(-1).unsqueeze(0)\n",
    "yyt = torch.tensor(yy, dtype=torch.float32).view(-1).unsqueeze(0)\n",
    "print(xxt.shape)\n",
    "print(yyt.shape)\n",
    "v = torch.t(torch.cat([xxt,yyt]))\n",
    "print(v.shape)\n",
    "m = model(v)\n",
    "print(m.shape)\n",
    "mm = m.detach().numpy().reshape(50,50)\n",
    "print(mm.shape)"
   ]
  },
  {
   "cell_type": "code",
   "execution_count": null,
   "metadata": {},
   "outputs": [],
   "source": [
    "x_try = torch.tensor(x, dtype=torch.float32)\n",
    "y_try = model(x_try)\n",
    "yy_try = (y_try.squeeze() > 0.5).numpy()\n",
    "print(yy_try)"
   ]
  },
  {
   "cell_type": "code",
   "execution_count": null,
   "metadata": {},
   "outputs": [],
   "source": [
    "plt.figure(figsize=(7,7))\n",
    "extent = -3, 10, -3, 10\n",
    "plt.imshow(mm, cmap=cm.BuGn, interpolation='bilinear', extent=extent, alpha=.5, origin='lower')\n",
    "plt.scatter(x[:,0], x[:,1], c=yy_try, cmap=cm.viridis)\n",
    "plt.colorbar()\n",
    "plt.xlabel('$x_1$')\n",
    "plt.ylabel('$x_2$')\n",
    "plt.xlim(-3,10)\n",
    "plt.ylim(-3,10)\n",
    "plt.title('Classification results')"
   ]
  },
  {
   "cell_type": "code",
   "execution_count": null,
   "metadata": {},
   "outputs": [],
   "source": []
  }
 ],
 "metadata": {
  "kernelspec": {
   "display_name": "Python 3",
   "language": "python",
   "name": "python3"
  },
  "language_info": {
   "codemirror_mode": {
    "name": "ipython",
    "version": 3
   },
   "file_extension": ".py",
   "mimetype": "text/x-python",
   "name": "python",
   "nbconvert_exporter": "python",
   "pygments_lexer": "ipython3",
   "version": "3.6.9"
  }
 },
 "nbformat": 4,
 "nbformat_minor": 4
}
