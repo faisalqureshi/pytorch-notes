{
 "cells": [
  {
   "cell_type": "markdown",
   "id": "fc151bba-0e8a-4b33-a1a0-a2f31bf119d0",
   "metadata": {},
   "source": [
    "# MNIST experiments\n",
    "\n",
    "faisal.qureshi@ontariotechu.ca"
   ]
  },
  {
   "cell_type": "code",
   "execution_count": null,
   "id": "aaadbb8e-2eb7-4721-a796-541f26b5400e",
   "metadata": {},
   "outputs": [],
   "source": [
    "from importlib import reload\n",
    "import matplotlib.pyplot as plt\n",
    "import torch\n",
    "import data\n",
    "import modelae\n",
    "import train\n",
    "import evaluate"
   ]
  },
  {
   "cell_type": "markdown",
   "id": "50487ab9-dae3-4dc6-8079-d29dbf6abc61",
   "metadata": {},
   "source": [
    "# Data"
   ]
  },
  {
   "cell_type": "code",
   "execution_count": null,
   "id": "fe2cc6ec-a8b2-45b4-88fd-57353f0b7415",
   "metadata": {},
   "outputs": [],
   "source": [
    "reload(data)"
   ]
  },
  {
   "cell_type": "code",
   "execution_count": null,
   "id": "40d2274e-b471-4c55-9fac-6957800be51c",
   "metadata": {},
   "outputs": [],
   "source": [
    "dataset = data.set_mnist_data(datafolder='../../datasets', digits=[6])"
   ]
  },
  {
   "cell_type": "code",
   "execution_count": null,
   "id": "ba88957d-f4b3-44fb-b763-b0ea4a429f2c",
   "metadata": {},
   "outputs": [],
   "source": [
    "img, label = data.view(dataset)\n",
    "plt.figure(figsize=(5,5))\n",
    "plt.imshow(img)\n",
    "plt.title(label);"
   ]
  },
  {
   "cell_type": "markdown",
   "id": "19724f45-ff51-4bd2-95f4-827f4929c9c1",
   "metadata": {},
   "source": [
    "## Training, validation and test datasets"
   ]
  },
  {
   "cell_type": "code",
   "execution_count": null,
   "id": "85ffd250-7100-4fe1-b5d7-9de9764cae3e",
   "metadata": {},
   "outputs": [],
   "source": [
    "training_dataset, validation_dataset, test_dataset = data.split_training_validation_test(dataset, 0.5, 0.2, 0.3)"
   ]
  },
  {
   "cell_type": "markdown",
   "id": "c31f5af2-f435-4cbd-8db8-f0c5165b63f9",
   "metadata": {},
   "source": [
    "# Model"
   ]
  },
  {
   "cell_type": "code",
   "execution_count": null,
   "id": "7b3e9148-7eec-418e-95fe-6175dae52c82",
   "metadata": {},
   "outputs": [],
   "source": [
    "reload(modelae)"
   ]
  },
  {
   "cell_type": "code",
   "execution_count": null,
   "id": "714b615f-a9a0-4e6c-83f1-2eb4cf70151f",
   "metadata": {},
   "outputs": [],
   "source": [
    "ae = modelae.AutoEncoder()\n",
    "print(ae)"
   ]
  },
  {
   "cell_type": "markdown",
   "id": "ec3a09f5-a6d4-4c96-88a4-946795e1496e",
   "metadata": {},
   "source": [
    "# Compute environment"
   ]
  },
  {
   "cell_type": "code",
   "execution_count": null,
   "id": "d1ae750a-4815-450f-b9cf-d2791fbfa35a",
   "metadata": {},
   "outputs": [],
   "source": [
    "print(f'Cuda is available: {torch.cuda.is_available()}')\n",
    "\n",
    "for i in range(torch.cuda.device_count()):\n",
    "    print(f'Device {i}: {torch.cuda.get_device_name(i)}')"
   ]
  },
  {
   "cell_type": "markdown",
   "id": "3e30d398-22c2-4816-a2eb-1eb99b2dbe54",
   "metadata": {},
   "source": [
    "# Model training"
   ]
  },
  {
   "cell_type": "markdown",
   "id": "06d234f5-f70a-481d-b9ba-13ac569e04a0",
   "metadata": {
    "tags": []
   },
   "source": [
    "## Setting up training, validation, and test dataloaders"
   ]
  },
  {
   "cell_type": "code",
   "execution_count": null,
   "id": "ac2ca43e-0a9c-497d-87db-c0423f9d1c77",
   "metadata": {},
   "outputs": [],
   "source": [
    "training_dataloader, validation_dataloader, test_dataloader = data.set_dataloaders(training_dataset,\n",
    "                                                                                   validation_dataset,\n",
    "                                                                                   test_dataset,\n",
    "                                                                                   batch_size=16,\n",
    "                                                                                   shuffle=False)"
   ]
  },
  {
   "cell_type": "markdown",
   "id": "25600ff7-6759-476a-a9d9-a7b10a67e756",
   "metadata": {},
   "source": [
    "## Training"
   ]
  },
  {
   "cell_type": "code",
   "execution_count": null,
   "id": "2959134f-576b-492c-9ec2-0bf86eb36f3f",
   "metadata": {},
   "outputs": [],
   "source": [
    "reload(train)"
   ]
  },
  {
   "cell_type": "code",
   "execution_count": null,
   "id": "ce19b284-3d11-44e0-a2b9-426ba764735c",
   "metadata": {},
   "outputs": [],
   "source": [
    "training = train.Training(0)\n",
    "\n",
    "training.set_loss()\n",
    "training.set_model(ae)\n",
    "training.set_optimizer(learning_rate=1e-2, weight_decay=1e-5)\n",
    "training.set_training_dataloader(training_dataloader)\n",
    "training.set_validation_dataloader(validation_dataloader)"
   ]
  },
  {
   "cell_type": "markdown",
   "id": "98e2fb5f-9d3d-4fb1-a27e-d917731142cc",
   "metadata": {},
   "source": [
    "### Do some training for a few epochs."
   ]
  },
  {
   "cell_type": "code",
   "execution_count": null,
   "id": "acd741d2-5e67-4322-8f7e-527f8601e199",
   "metadata": {},
   "outputs": [],
   "source": [
    "training.train(5, show_loss=True, checkpt_every=-1)"
   ]
  },
  {
   "cell_type": "code",
   "execution_count": null,
   "id": "0c93e5b0-90c0-4f23-814c-acc73dadbb4d",
   "metadata": {},
   "outputs": [],
   "source": [
    "training.losses"
   ]
  },
  {
   "cell_type": "code",
   "execution_count": null,
   "id": "4247a420-e2d9-4ea9-8594-16ac5e96206e",
   "metadata": {},
   "outputs": [],
   "source": [
    "training.train(10, show_loss=True, checkpt_every=2)"
   ]
  },
  {
   "cell_type": "markdown",
   "id": "7e5d02f0-ab67-43f7-93fa-b88b314cc9e2",
   "metadata": {},
   "source": [
    "### Now load from checkpoint and continue training."
   ]
  },
  {
   "cell_type": "code",
   "execution_count": null,
   "id": "b8e4ec29-ff1f-4390-b620-d3cb0d00df02",
   "metadata": {},
   "outputs": [],
   "source": [
    "training = train.Training(-1)\n",
    "\n",
    "training.set_loss()\n",
    "training.set_model(ae)\n",
    "training.set_optimizer(learning_rate=0, weight_decay=0)\n",
    "training.set_training_dataloader(training_dataloader)\n",
    "training.set_validation_dataloader(validation_dataloader)\n",
    "training.load_checkpoint('./checkpoints/chkpt-0000015.pt')"
   ]
  },
  {
   "cell_type": "code",
   "execution_count": null,
   "id": "59ed1d3c-a95a-4861-8cf2-aa6418caa42d",
   "metadata": {},
   "outputs": [],
   "source": [
    "print(training.current_epoch)\n",
    "print(training.losses)"
   ]
  },
  {
   "cell_type": "code",
   "execution_count": null,
   "id": "eb11425a-d894-491a-8364-79d6106cbd46",
   "metadata": {},
   "outputs": [],
   "source": [
    "training.train(5, show_loss=True)"
   ]
  },
  {
   "cell_type": "markdown",
   "id": "8446b57d-5bc9-4cb6-a5d0-d7aed21dc22e",
   "metadata": {},
   "source": [
    "# Inference"
   ]
  },
  {
   "cell_type": "code",
   "execution_count": null,
   "id": "c977a9d0-1b58-41b5-97d9-f4985b8128e7",
   "metadata": {},
   "outputs": [],
   "source": [
    "reload(evaluate)"
   ]
  },
  {
   "cell_type": "markdown",
   "id": "fee1abf0-c00b-434f-bbec-41f94230f813",
   "metadata": {},
   "source": [
    "## Evaluating on a single test image\n",
    "\n",
    "Lets first see how well this autoencoder model does on a single test image.  We will pick an image from our test_dataset"
   ]
  },
  {
   "cell_type": "code",
   "execution_count": null,
   "id": "b6e949c7-63eb-4a11-9fc3-0266a2781d3c",
   "metadata": {},
   "outputs": [],
   "source": [
    "inference = evaluate.Evaluate(0)\n",
    "inference.set_loss()\n",
    "inference.set_model(training.get_model())"
   ]
  },
  {
   "cell_type": "code",
   "execution_count": null,
   "id": "b35cc6de-e032-4202-9a07-854b55358208",
   "metadata": {},
   "outputs": [],
   "source": [
    "idx = 130\n",
    "data_item = test_dataset[idx]\n",
    "input_img = data_item['sample'] \n",
    "\n",
    "rec_img, loss, _ = inference.reconstruct_one_image(input_img)\n",
    "\n",
    "plt.figure(figsize=(10,5))\n",
    "plt.suptitle('Image reconstruction')\n",
    "plt.subplot(121)\n",
    "plt.title('Input image')\n",
    "plt.imshow(input_img.squeeze())\n",
    "plt.subplot(122)\n",
    "plt.title(f'Loss={loss:06.5}')\n",
    "plt.imshow(rec_img.squeeze());"
   ]
  },
  {
   "cell_type": "code",
   "execution_count": null,
   "id": "3226efcb-f77f-4b6d-96d4-b60e32c5231c",
   "metadata": {},
   "outputs": [],
   "source": [
    "test_dataloader = torch.utils.data.DataLoader(test_dataset,\n",
    "                                              batch_size=1,\n",
    "                                              shuffle=False)\n",
    "\n",
    "inference.evaluate(test_dataloader);"
   ]
  },
  {
   "cell_type": "code",
   "execution_count": null,
   "id": "33cd634f-3212-4881-baba-271755b43c85",
   "metadata": {},
   "outputs": [],
   "source": [
    "print(loss)"
   ]
  },
  {
   "cell_type": "code",
   "execution_count": null,
   "id": "1f797626-77b7-4fd0-9dea-89220201c6fb",
   "metadata": {},
   "outputs": [],
   "source": [
    "output.shape"
   ]
  },
  {
   "cell_type": "code",
   "execution_count": null,
   "id": "cb39f4a4-cb6a-4e5c-ac8c-1101fb04accd",
   "metadata": {},
   "outputs": [],
   "source": [
    "idx[:3]"
   ]
  },
  {
   "cell_type": "code",
   "execution_count": null,
   "id": "6b105584-8fa3-43a6-8744-059eae4aa1af",
   "metadata": {},
   "outputs": [],
   "source": [
    "idx[3:7]"
   ]
  },
  {
   "cell_type": "code",
   "execution_count": null,
   "id": "08964321-3b85-4a99-9575-a95220779def",
   "metadata": {},
   "outputs": [],
   "source": []
  }
 ],
 "metadata": {
  "kernelspec": {
   "display_name": "Python 3",
   "language": "python",
   "name": "python3"
  },
  "language_info": {
   "codemirror_mode": {
    "name": "ipython",
    "version": 3
   },
   "file_extension": ".py",
   "mimetype": "text/x-python",
   "name": "python",
   "nbconvert_exporter": "python",
   "pygments_lexer": "ipython3",
   "version": "3.6.9"
  }
 },
 "nbformat": 4,
 "nbformat_minor": 5
}
